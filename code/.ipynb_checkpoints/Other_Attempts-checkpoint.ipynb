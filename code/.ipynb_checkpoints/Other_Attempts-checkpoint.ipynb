{
 "cells": [
  {
   "cell_type": "markdown",
   "metadata": {},
   "source": [
    "# Other attempts"
   ]
  },
  {
   "cell_type": "markdown",
   "metadata": {},
   "source": [
    "This notebook addresses attempts that we tried as part of our project trajectory and decided not to include as part of the final solution, such as PCA analysis, predicting positions of track in the playlist, etc."
   ]
  },
  {
   "cell_type": "markdown",
   "metadata": {
    "toc": true
   },
   "source": [
    "<h1>Table of Contents<span class=\"tocSkip\"></span></h1>\n",
    "<div class=\"toc\"><ul class=\"toc-item\"><li><span><a href=\"#PCA-on-Scaled-dataframe\" data-toc-modified-id=\"PCA-on-Scaled-dataframe-1\"><span class=\"toc-item-num\">1&nbsp;&nbsp;</span>PCA on Scaled dataframe</a></span></li><li><span><a href=\"#Models-for-predicting-position-of-track-in-playlist\" data-toc-modified-id=\"Models-for-predicting-position-of-track-in-playlist-2\"><span class=\"toc-item-num\">2&nbsp;&nbsp;</span>Models for predicting position of track in playlist</a></span></li><li><span><a href=\"#Code-for-retrieving-genre-labels-from-Spotipy-API\" data-toc-modified-id=\"Code-for-retrieving-genre-labels-from-Spotipy-API-3\"><span class=\"toc-item-num\">3&nbsp;&nbsp;</span>Code for retrieving genre labels from Spotipy API</a></span></li></ul></div>"
   ]
  },
  {
   "cell_type": "markdown",
   "metadata": {},
   "source": [
    "### PCA on Scaled dataframe"
   ]
  },
  {
   "cell_type": "markdown",
   "metadata": {},
   "source": [
    "TODO - Need to normalize dataset before inputting to PCA?"
   ]
  },
  {
   "cell_type": "code",
   "execution_count": null,
   "metadata": {},
   "outputs": [],
   "source": [
    "pca = PCA().fit(new_scaled_df)\n",
    "pca_2d = pca.transform(new_scaled_df)\n",
    "pcaX_train_df = pd.DataFrame(pca_2d)"
   ]
  },
  {
   "cell_type": "code",
   "execution_count": null,
   "metadata": {},
   "outputs": [],
   "source": [
    "list_of_audio_features = ['acousticness', 'energy', 'liveness', 'loudness', 'tempo', 'valence', 'danceability', 'speechiness']"
   ]
  },
  {
   "cell_type": "code",
   "execution_count": null,
   "metadata": {},
   "outputs": [],
   "source": [
    "for column_plot in list_of_audio_features:\n",
    "    \n",
    "    cut_off = round(np.median(new_scaled_df[column_plot]), 4)\n",
    "    df_y_train = pd.DataFrame(new_scaled_df[column_plot]).set_index(pcaX_train_df.index)\n",
    "    \n",
    "    plt.figure()\n",
    "    plt.scatter(pcaX_train_df.loc[df_y_train[column_plot] < cut_off, 0], pcaX_train_df.loc[df_y_train[column_plot] < cut_off, 1], alpha=0.4, label= str(column_plot) + \"<\" + str(cut_off))\n",
    "    plt.scatter(pcaX_train_df.loc[df_y_train[column_plot] >= cut_off, 0], pcaX_train_df.loc[df_y_train[column_plot] >= cut_off, 1], alpha=0.4, label= str(column_plot) + \">=\" + str(cut_off))\n",
    "\n",
    "    plt.xlabel(\"First PCA Component Vector\")\n",
    "    plt.ylabel(\"Second PCA Component Vector\")\n",
    "    plt.title(\"First two principal components: Results for binning \" + str(column_plot))\n",
    "    plt.legend();"
   ]
  },
  {
   "cell_type": "code",
   "execution_count": null,
   "metadata": {},
   "outputs": [],
   "source": [
    "print(\"Variance explained by top two components\", pca.explained_variance_ratio_[0:2])"
   ]
  },
  {
   "cell_type": "code",
   "execution_count": null,
   "metadata": {},
   "outputs": [],
   "source": [
    "plt.figure(figsize=(20,10))\n",
    "plt.plot(np.cumsum(pca.explained_variance_ratio_))\n",
    "plt.xlabel(\"Number of PCA components used\")\n",
    "plt.ylabel(\"Cumulative explained variability\")\n",
    "plt.title(\"Cumulative explained variability from PCA components\");"
   ]
  },
  {
   "cell_type": "code",
   "execution_count": null,
   "metadata": {},
   "outputs": [],
   "source": [
    "from sklearn.cluster import KMeans\n",
    "kmeans = KMeans(n_clusters=3)\n",
    "kmeans.fit(pcaX_train_df)\n",
    "y_kmeans = kmeans.predict(pcaX_train_df)\n",
    "\n",
    "plt.scatter(pcaX_train_df[0], pcaX_train_df[1], c=y_kmeans, s=50, cmap='viridis')\n",
    "\n",
    "centers = kmeans.cluster_centers_\n",
    "plt.scatter(centers[:, 0], centers[:, 1], c='black', s=200, alpha=0.5)\n",
    "plt.title(\"K-means clustering results on PCA (no. of clusters = 3)\");"
   ]
  },
  {
   "cell_type": "markdown",
   "metadata": {},
   "source": [
    "### Models for predicting position of track in playlist"
   ]
  },
  {
   "cell_type": "code",
   "execution_count": null,
   "metadata": {},
   "outputs": [],
   "source": [
    "X_train, X_test, y_train, y_test = train_test_split(new_scaled_df, songs_df['pos'], test_size=0.33, random_state=42)"
   ]
  },
  {
   "cell_type": "code",
   "execution_count": null,
   "metadata": {},
   "outputs": [],
   "source": [
    "logreg = LogisticRegression(C=100000, fit_intercept=False, solver='lbfgs', max_iter=10000)\n",
    "logreg.fit(X_train, y_train)\n",
    "logreg.predict(X_train)\n",
    "logreg.score(X_test, y_test)"
   ]
  },
  {
   "cell_type": "code",
   "execution_count": null,
   "metadata": {},
   "outputs": [],
   "source": [
    "linearreg = LinearRegression()\n",
    "linearreg.fit(X_train, y_train)\n",
    "linearreg.score(X_test, y_test)"
   ]
  },
  {
   "cell_type": "markdown",
   "metadata": {},
   "source": [
    "### Code for retrieving genre labels from Spotipy API"
   ]
  },
  {
   "cell_type": "code",
   "execution_count": null,
   "metadata": {},
   "outputs": [],
   "source": [
    "first_dataframe['genre'] = ''\n",
    "for i in range(3000): #len(first_dataframe['artist_uri'])\n",
    "    first_dataframe.reset_index(drop=True, inplace=True)\n",
    "    album_str = sp.artist(first_dataframe['artist_uri'][i])\n",
    "    json_obj = json.dumps(album_str)\n",
    "    if '[]' != str(json.loads(json_obj)['genres']):\n",
    "        if 'classical' in str(json.loads(json_obj)['genres']):\n",
    "            first_dataframe['genre'][i] = \"Classical\"\n",
    "        elif 'soundtrack' in str(json.loads(json_obj)['genres']):\n",
    "            first_dataframe['genre'][i] = \"Soundtrack\"\n",
    "        else:\n",
    "            first_dataframe['genre'][i] = json.loads(json_obj)['genres']\n",
    "    else:\n",
    "        first_dataframe.drop(i, inplace=True)"
   ]
  },
  {
   "cell_type": "code",
   "execution_count": null,
   "metadata": {},
   "outputs": [],
   "source": [
    "first_dataframe.head()"
   ]
  },
  {
   "cell_type": "code",
   "execution_count": null,
   "metadata": {},
   "outputs": [],
   "source": [
    "first_dataframe[first_dataframe.genre.apply(lambda x: 'pop' in x)]['genre']"
   ]
  },
  {
   "cell_type": "markdown",
   "metadata": {},
   "source": [
    "TODO - take a picture of this!"
   ]
  }
 ],
 "metadata": {
  "kernelspec": {
   "display_name": "Python 3",
   "language": "python",
   "name": "python3"
  },
  "language_info": {
   "codemirror_mode": {
    "name": "ipython",
    "version": 3
   },
   "file_extension": ".py",
   "mimetype": "text/x-python",
   "name": "python",
   "nbconvert_exporter": "python",
   "pygments_lexer": "ipython3",
   "version": "3.6.4"
  },
  "toc": {
   "base_numbering": 1,
   "nav_menu": {},
   "number_sections": true,
   "sideBar": true,
   "skip_h1_title": true,
   "title_cell": "Table of Contents",
   "title_sidebar": "Contents",
   "toc_cell": true,
   "toc_position": {},
   "toc_section_display": true,
   "toc_window_display": false
  }
 },
 "nbformat": 4,
 "nbformat_minor": 2
}
