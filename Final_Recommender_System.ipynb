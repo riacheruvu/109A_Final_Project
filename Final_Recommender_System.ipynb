{
 "cells": [
  {
   "cell_type": "markdown",
   "metadata": {
    "toc": true
   },
   "source": [
    "<h1>Table of Contents<span class=\"tocSkip\"></span></h1>\n",
    "<div class=\"toc\"><ul class=\"toc-item\"><li><span><a href=\"#Note:-I-recommend-viewing-the-results-first-(don't-toggle-on-the-code-yet),-and-then-the-code.-Keep-clicking-the-run-button-until-you-get-to-the-recommender-system-code-section,-and-follow-the-instructions-there.\" data-toc-modified-id=\"Note:-I-recommend-viewing-the-results-first-(don't-toggle-on-the-code-yet),-and-then-the-code.-Keep-clicking-the-run-button-until-you-get-to-the-recommender-system-code-section,-and-follow-the-instructions-there.-1\"><span class=\"toc-item-num\">1&nbsp;&nbsp;</span>Note: I recommend viewing the results first (don't toggle on the code yet), and then the code. Keep clicking the run button until you get to the recommender system code section, and follow the instructions there.</a></span></li><li><span><a href=\"#Recommender-system-model\" data-toc-modified-id=\"Recommender-system-model-2\"><span class=\"toc-item-num\">2&nbsp;&nbsp;</span>Recommender system model</a></span></li><li><span><a href=\"#Unrelated-items-below-(PCA-analysis,-predicting-position-of-track-in-playlist)\" data-toc-modified-id=\"Unrelated-items-below-(PCA-analysis,-predicting-position-of-track-in-playlist)-3\"><span class=\"toc-item-num\">3&nbsp;&nbsp;</span>Unrelated items below (PCA analysis, predicting position of track in playlist)</a></span></li><li><span><a href=\"#Models-for-predicting-position-of-track-in-playlist\" data-toc-modified-id=\"Models-for-predicting-position-of-track-in-playlist-4\"><span class=\"toc-item-num\">4&nbsp;&nbsp;</span>Models for predicting position of track in playlist</a></span></li></ul></div>"
   ]
  },
  {
   "cell_type": "code",
   "execution_count": 30,
   "metadata": {},
   "outputs": [],
   "source": [
    "import pandas as pd\n",
    "import numpy as np\n",
    "import random\n",
    "import spotipy\n",
    "from spotipy.oauth2 import SpotifyClientCredentials\n",
    "import json\n",
    "from scipy.sparse import csr_matrix\n",
    "from sklearn.neighbors import NearestNeighbors\n",
    "from sklearn.decomposition import PCA\n",
    "from sklearn.cluster import KMeans\n",
    "from matplotlib import pyplot as plt\n",
    "from sklearn.preprocessing import StandardScaler\n",
    "from sklearn.linear_model import LogisticRegression\n",
    "from sklearn.linear_model import LogisticRegressionCV\n",
    "from sklearn.model_selection import train_test_split\n",
    "from sklearn.linear_model import LinearRegression\n",
    "import seaborn as sns\n",
    "from __future__ import print_function\n",
    "from ipywidgets import interact, interactive, fixed, interact_manual\n",
    "import ipywidgets as widgets\n",
    "from IPython.display import Javascript\n",
    "from IPython.display import HTML"
   ]
  },
  {
   "cell_type": "markdown",
   "metadata": {},
   "source": [
    "## Note: I recommend viewing the results first (don't toggle on the code yet), and then the code. Keep clicking the run button until you get to the recommender system code section, and follow the instructions there."
   ]
  },
  {
   "cell_type": "code",
   "execution_count": 31,
   "metadata": {},
   "outputs": [
    {
     "data": {
      "text/html": [
       "<script>\n",
       "code_show=true; \n",
       "function code_toggle() {\n",
       " if (code_show){\n",
       " $('div.input').hide();\n",
       " } else {\n",
       " $('div.input').show();\n",
       " }\n",
       " code_show = !code_show\n",
       "} \n",
       "$( document ).ready(code_toggle);\n",
       "</script>\n",
       "<form action=\"javascript:code_toggle()\"><input type=\"submit\" value=\"Click here to toggle on/off the raw code.\"></form>"
      ],
      "text/plain": [
       "<IPython.core.display.HTML object>"
      ]
     },
     "execution_count": 31,
     "metadata": {},
     "output_type": "execute_result"
    }
   ],
   "source": [
    "HTML('''<script>\n",
    "code_show=true; \n",
    "function code_toggle() {\n",
    " if (code_show){\n",
    " $('div.input').hide();\n",
    " } else {\n",
    " $('div.input').show();\n",
    " }\n",
    " code_show = !code_show\n",
    "} \n",
    "$( document ).ready(code_toggle);\n",
    "</script>\n",
    "<form action=\"javascript:code_toggle()\"><input type=\"submit\" value=\"Click here to toggle on/off the raw code.\"></form>''')"
   ]
  },
  {
   "cell_type": "code",
   "execution_count": 32,
   "metadata": {
    "scrolled": false
   },
   "outputs": [
    {
     "data": {
      "text/html": [
       "<div>\n",
       "<style scoped>\n",
       "    .dataframe tbody tr th:only-of-type {\n",
       "        vertical-align: middle;\n",
       "    }\n",
       "\n",
       "    .dataframe tbody tr th {\n",
       "        vertical-align: top;\n",
       "    }\n",
       "\n",
       "    .dataframe thead th {\n",
       "        text-align: right;\n",
       "    }\n",
       "</style>\n",
       "<table border=\"1\" class=\"dataframe\">\n",
       "  <thead>\n",
       "    <tr style=\"text-align: right;\">\n",
       "      <th></th>\n",
       "      <th>pid</th>\n",
       "      <th>pos</th>\n",
       "      <th>artist_name</th>\n",
       "      <th>track_uri</th>\n",
       "      <th>artist_uri</th>\n",
       "      <th>track_name</th>\n",
       "      <th>album_uri</th>\n",
       "      <th>duration_ms</th>\n",
       "      <th>album_name</th>\n",
       "      <th>acousticness</th>\n",
       "      <th>energy</th>\n",
       "      <th>liveness</th>\n",
       "      <th>loudness</th>\n",
       "      <th>tempo</th>\n",
       "      <th>valence</th>\n",
       "      <th>danceability</th>\n",
       "      <th>speechiness</th>\n",
       "    </tr>\n",
       "  </thead>\n",
       "  <tbody>\n",
       "    <tr>\n",
       "      <td>0</td>\n",
       "      <td>0</td>\n",
       "      <td>0</td>\n",
       "      <td>Yiruma</td>\n",
       "      <td>spotify:track:7fnqltLx83HsYLQajzCYRk</td>\n",
       "      <td>spotify:artist:0fauHpmSHwodVYIjTqOGHz</td>\n",
       "      <td>River Flows In You</td>\n",
       "      <td>spotify:album:0vIR7YccgfLA1f5wcXZa4Z</td>\n",
       "      <td>185013</td>\n",
       "      <td>River Flows In You</td>\n",
       "      <td>0.988</td>\n",
       "      <td>0.2070</td>\n",
       "      <td>0.0880</td>\n",
       "      <td>-21.487</td>\n",
       "      <td>144.547</td>\n",
       "      <td>0.1090</td>\n",
       "      <td>0.320</td>\n",
       "      <td>0.0512</td>\n",
       "    </tr>\n",
       "    <tr>\n",
       "      <td>1</td>\n",
       "      <td>0</td>\n",
       "      <td>1</td>\n",
       "      <td>Frédéric Chopin</td>\n",
       "      <td>spotify:track:3w8507pR0Ncycrol0ZJOwP</td>\n",
       "      <td>spotify:artist:7y97mc3bZRFXzT2szRM4L4</td>\n",
       "      <td>Ballade No. 4 in F minor Op. 52</td>\n",
       "      <td>spotify:album:2ML75R6Z1LEFgPNZS0Ce3D</td>\n",
       "      <td>676000</td>\n",
       "      <td>The Best of Chopin</td>\n",
       "      <td>0.993</td>\n",
       "      <td>0.1050</td>\n",
       "      <td>0.1030</td>\n",
       "      <td>-24.507</td>\n",
       "      <td>70.014</td>\n",
       "      <td>0.0377</td>\n",
       "      <td>0.270</td>\n",
       "      <td>0.0439</td>\n",
       "    </tr>\n",
       "    <tr>\n",
       "      <td>2</td>\n",
       "      <td>0</td>\n",
       "      <td>2</td>\n",
       "      <td>Alexander Pitamic</td>\n",
       "      <td>spotify:track:59E6rPql7W8q2sodZpg1qQ</td>\n",
       "      <td>spotify:artist:4TuTJcUBhYyPoHYTSQzGAM</td>\n",
       "      <td>Serenade für Streicher Nr. 13, G-Dur, KV 525: ...</td>\n",
       "      <td>spotify:album:3V8JHEeOhi7Z765C6v3Pqr</td>\n",
       "      <td>391000</td>\n",
       "      <td>Wolfgang Amadeus Mozart: Sinfonie Nr. 29, A-Du...</td>\n",
       "      <td>0.952</td>\n",
       "      <td>0.0763</td>\n",
       "      <td>0.1000</td>\n",
       "      <td>-20.524</td>\n",
       "      <td>122.174</td>\n",
       "      <td>0.4100</td>\n",
       "      <td>0.544</td>\n",
       "      <td>0.0505</td>\n",
       "    </tr>\n",
       "    <tr>\n",
       "      <td>3</td>\n",
       "      <td>0</td>\n",
       "      <td>3</td>\n",
       "      <td>Johann Sebastian Bach</td>\n",
       "      <td>spotify:track:48BSXfxyLLxDIp934Is2A9</td>\n",
       "      <td>spotify:artist:5aIqB5nVVvmFsvSdExz408</td>\n",
       "      <td>Cello Suite No. 1 in G Major, BWV 1007: I. Pre...</td>\n",
       "      <td>spotify:album:2cj4D33pmIvDCiDYWg80Nj</td>\n",
       "      <td>132120</td>\n",
       "      <td>Bach, J.S.: 6 Suites for Solo Cello, Bwv 1007-...</td>\n",
       "      <td>0.990</td>\n",
       "      <td>0.2130</td>\n",
       "      <td>0.0859</td>\n",
       "      <td>-20.577</td>\n",
       "      <td>79.423</td>\n",
       "      <td>0.6170</td>\n",
       "      <td>0.341</td>\n",
       "      <td>0.0715</td>\n",
       "    </tr>\n",
       "    <tr>\n",
       "      <td>4</td>\n",
       "      <td>0</td>\n",
       "      <td>4</td>\n",
       "      <td>Hans Zimmer</td>\n",
       "      <td>spotify:track:4aW4Dpz3gpb619hBXDrFUa</td>\n",
       "      <td>spotify:artist:0YC192cP3KPCRWx8zr8MfZ</td>\n",
       "      <td>Honor [Main Title Theme From \"The Pacific\"]</td>\n",
       "      <td>spotify:album:0NH1WrtzRBlZS1VJX2XnXr</td>\n",
       "      <td>176587</td>\n",
       "      <td>The Pacific (Music From the HBO Miniseries)</td>\n",
       "      <td>0.335</td>\n",
       "      <td>0.2760</td>\n",
       "      <td>0.1100</td>\n",
       "      <td>-14.830</td>\n",
       "      <td>68.619</td>\n",
       "      <td>0.0575</td>\n",
       "      <td>0.190</td>\n",
       "      <td>0.0346</td>\n",
       "    </tr>\n",
       "  </tbody>\n",
       "</table>\n",
       "</div>"
      ],
      "text/plain": [
       "   pid  pos            artist_name                             track_uri  \\\n",
       "0    0    0                 Yiruma  spotify:track:7fnqltLx83HsYLQajzCYRk   \n",
       "1    0    1        Frédéric Chopin  spotify:track:3w8507pR0Ncycrol0ZJOwP   \n",
       "2    0    2      Alexander Pitamic  spotify:track:59E6rPql7W8q2sodZpg1qQ   \n",
       "3    0    3  Johann Sebastian Bach  spotify:track:48BSXfxyLLxDIp934Is2A9   \n",
       "4    0    4            Hans Zimmer  spotify:track:4aW4Dpz3gpb619hBXDrFUa   \n",
       "\n",
       "                              artist_uri  \\\n",
       "0  spotify:artist:0fauHpmSHwodVYIjTqOGHz   \n",
       "1  spotify:artist:7y97mc3bZRFXzT2szRM4L4   \n",
       "2  spotify:artist:4TuTJcUBhYyPoHYTSQzGAM   \n",
       "3  spotify:artist:5aIqB5nVVvmFsvSdExz408   \n",
       "4  spotify:artist:0YC192cP3KPCRWx8zr8MfZ   \n",
       "\n",
       "                                          track_name  \\\n",
       "0                                 River Flows In You   \n",
       "1                    Ballade No. 4 in F minor Op. 52   \n",
       "2  Serenade für Streicher Nr. 13, G-Dur, KV 525: ...   \n",
       "3  Cello Suite No. 1 in G Major, BWV 1007: I. Pre...   \n",
       "4        Honor [Main Title Theme From \"The Pacific\"]   \n",
       "\n",
       "                              album_uri  duration_ms  \\\n",
       "0  spotify:album:0vIR7YccgfLA1f5wcXZa4Z       185013   \n",
       "1  spotify:album:2ML75R6Z1LEFgPNZS0Ce3D       676000   \n",
       "2  spotify:album:3V8JHEeOhi7Z765C6v3Pqr       391000   \n",
       "3  spotify:album:2cj4D33pmIvDCiDYWg80Nj       132120   \n",
       "4  spotify:album:0NH1WrtzRBlZS1VJX2XnXr       176587   \n",
       "\n",
       "                                          album_name  acousticness  energy  \\\n",
       "0                                 River Flows In You         0.988  0.2070   \n",
       "1                                 The Best of Chopin         0.993  0.1050   \n",
       "2  Wolfgang Amadeus Mozart: Sinfonie Nr. 29, A-Du...         0.952  0.0763   \n",
       "3  Bach, J.S.: 6 Suites for Solo Cello, Bwv 1007-...         0.990  0.2130   \n",
       "4        The Pacific (Music From the HBO Miniseries)         0.335  0.2760   \n",
       "\n",
       "   liveness  loudness    tempo  valence  danceability  speechiness  \n",
       "0    0.0880   -21.487  144.547   0.1090         0.320       0.0512  \n",
       "1    0.1030   -24.507   70.014   0.0377         0.270       0.0439  \n",
       "2    0.1000   -20.524  122.174   0.4100         0.544       0.0505  \n",
       "3    0.0859   -20.577   79.423   0.6170         0.341       0.0715  \n",
       "4    0.1100   -14.830   68.619   0.0575         0.190       0.0346  "
      ]
     },
     "execution_count": 32,
     "metadata": {},
     "output_type": "execute_result"
    }
   ],
   "source": [
    "songs_df = pd.read_csv('initial_feature_data_songs999.csv')\n",
    "del songs_df['Unnamed: 0']\n",
    "songs_df.head()"
   ]
  },
  {
   "cell_type": "code",
   "execution_count": 33,
   "metadata": {},
   "outputs": [
    {
     "data": {
      "text/html": [
       "<div>\n",
       "<style scoped>\n",
       "    .dataframe tbody tr th:only-of-type {\n",
       "        vertical-align: middle;\n",
       "    }\n",
       "\n",
       "    .dataframe tbody tr th {\n",
       "        vertical-align: top;\n",
       "    }\n",
       "\n",
       "    .dataframe thead th {\n",
       "        text-align: right;\n",
       "    }\n",
       "</style>\n",
       "<table border=\"1\" class=\"dataframe\">\n",
       "  <thead>\n",
       "    <tr style=\"text-align: right;\">\n",
       "      <th></th>\n",
       "      <th>pid</th>\n",
       "      <th>pos</th>\n",
       "      <th>duration_ms</th>\n",
       "      <th>acousticness</th>\n",
       "      <th>energy</th>\n",
       "      <th>liveness</th>\n",
       "      <th>loudness</th>\n",
       "      <th>tempo</th>\n",
       "      <th>valence</th>\n",
       "      <th>danceability</th>\n",
       "      <th>speechiness</th>\n",
       "    </tr>\n",
       "  </thead>\n",
       "  <tbody>\n",
       "    <tr>\n",
       "      <td>count</td>\n",
       "      <td>3175.000000</td>\n",
       "      <td>3175.000000</td>\n",
       "      <td>3175.000000</td>\n",
       "      <td>3175.000000</td>\n",
       "      <td>3175.000000</td>\n",
       "      <td>3175.000000</td>\n",
       "      <td>3175.000000</td>\n",
       "      <td>3175.000000</td>\n",
       "      <td>3175.000000</td>\n",
       "      <td>3175.000000</td>\n",
       "      <td>3175.000000</td>\n",
       "    </tr>\n",
       "    <tr>\n",
       "      <td>mean</td>\n",
       "      <td>20.778898</td>\n",
       "      <td>62.110866</td>\n",
       "      <td>232801.359370</td>\n",
       "      <td>0.224359</td>\n",
       "      <td>0.666765</td>\n",
       "      <td>0.197051</td>\n",
       "      <td>-7.328659</td>\n",
       "      <td>122.522027</td>\n",
       "      <td>0.496176</td>\n",
       "      <td>0.562059</td>\n",
       "      <td>0.079370</td>\n",
       "    </tr>\n",
       "    <tr>\n",
       "      <td>std</td>\n",
       "      <td>12.706229</td>\n",
       "      <td>54.751846</td>\n",
       "      <td>78722.583095</td>\n",
       "      <td>0.273712</td>\n",
       "      <td>0.218357</td>\n",
       "      <td>0.166337</td>\n",
       "      <td>3.780474</td>\n",
       "      <td>29.790286</td>\n",
       "      <td>0.250990</td>\n",
       "      <td>0.168482</td>\n",
       "      <td>0.080733</td>\n",
       "    </tr>\n",
       "    <tr>\n",
       "      <td>min</td>\n",
       "      <td>0.000000</td>\n",
       "      <td>0.000000</td>\n",
       "      <td>14213.000000</td>\n",
       "      <td>0.000002</td>\n",
       "      <td>0.007610</td>\n",
       "      <td>0.015700</td>\n",
       "      <td>-33.350000</td>\n",
       "      <td>0.000000</td>\n",
       "      <td>0.000000</td>\n",
       "      <td>0.000000</td>\n",
       "      <td>0.000000</td>\n",
       "    </tr>\n",
       "    <tr>\n",
       "      <td>25%</td>\n",
       "      <td>9.000000</td>\n",
       "      <td>19.000000</td>\n",
       "      <td>190302.500000</td>\n",
       "      <td>0.013150</td>\n",
       "      <td>0.529000</td>\n",
       "      <td>0.094950</td>\n",
       "      <td>-8.703500</td>\n",
       "      <td>99.865500</td>\n",
       "      <td>0.294000</td>\n",
       "      <td>0.446000</td>\n",
       "      <td>0.035000</td>\n",
       "    </tr>\n",
       "    <tr>\n",
       "      <td>50%</td>\n",
       "      <td>20.000000</td>\n",
       "      <td>46.000000</td>\n",
       "      <td>221623.000000</td>\n",
       "      <td>0.095800</td>\n",
       "      <td>0.697000</td>\n",
       "      <td>0.131000</td>\n",
       "      <td>-6.478000</td>\n",
       "      <td>120.033000</td>\n",
       "      <td>0.486000</td>\n",
       "      <td>0.573000</td>\n",
       "      <td>0.047600</td>\n",
       "    </tr>\n",
       "    <tr>\n",
       "      <td>75%</td>\n",
       "      <td>34.000000</td>\n",
       "      <td>92.000000</td>\n",
       "      <td>258940.000000</td>\n",
       "      <td>0.362500</td>\n",
       "      <td>0.843000</td>\n",
       "      <td>0.254000</td>\n",
       "      <td>-4.907000</td>\n",
       "      <td>141.927000</td>\n",
       "      <td>0.697500</td>\n",
       "      <td>0.686000</td>\n",
       "      <td>0.082550</td>\n",
       "    </tr>\n",
       "    <tr>\n",
       "      <td>max</td>\n",
       "      <td>44.000000</td>\n",
       "      <td>233.000000</td>\n",
       "      <td>941360.000000</td>\n",
       "      <td>0.993000</td>\n",
       "      <td>0.997000</td>\n",
       "      <td>0.994000</td>\n",
       "      <td>1.586000</td>\n",
       "      <td>219.297000</td>\n",
       "      <td>0.990000</td>\n",
       "      <td>0.967000</td>\n",
       "      <td>0.750000</td>\n",
       "    </tr>\n",
       "  </tbody>\n",
       "</table>\n",
       "</div>"
      ],
      "text/plain": [
       "               pid          pos    duration_ms  acousticness       energy  \\\n",
       "count  3175.000000  3175.000000    3175.000000   3175.000000  3175.000000   \n",
       "mean     20.778898    62.110866  232801.359370      0.224359     0.666765   \n",
       "std      12.706229    54.751846   78722.583095      0.273712     0.218357   \n",
       "min       0.000000     0.000000   14213.000000      0.000002     0.007610   \n",
       "25%       9.000000    19.000000  190302.500000      0.013150     0.529000   \n",
       "50%      20.000000    46.000000  221623.000000      0.095800     0.697000   \n",
       "75%      34.000000    92.000000  258940.000000      0.362500     0.843000   \n",
       "max      44.000000   233.000000  941360.000000      0.993000     0.997000   \n",
       "\n",
       "          liveness     loudness        tempo      valence  danceability  \\\n",
       "count  3175.000000  3175.000000  3175.000000  3175.000000   3175.000000   \n",
       "mean      0.197051    -7.328659   122.522027     0.496176      0.562059   \n",
       "std       0.166337     3.780474    29.790286     0.250990      0.168482   \n",
       "min       0.015700   -33.350000     0.000000     0.000000      0.000000   \n",
       "25%       0.094950    -8.703500    99.865500     0.294000      0.446000   \n",
       "50%       0.131000    -6.478000   120.033000     0.486000      0.573000   \n",
       "75%       0.254000    -4.907000   141.927000     0.697500      0.686000   \n",
       "max       0.994000     1.586000   219.297000     0.990000      0.967000   \n",
       "\n",
       "       speechiness  \n",
       "count  3175.000000  \n",
       "mean      0.079370  \n",
       "std       0.080733  \n",
       "min       0.000000  \n",
       "25%       0.035000  \n",
       "50%       0.047600  \n",
       "75%       0.082550  \n",
       "max       0.750000  "
      ]
     },
     "execution_count": 33,
     "metadata": {},
     "output_type": "execute_result"
    }
   ],
   "source": [
    "songs_df.describe()"
   ]
  },
  {
   "cell_type": "markdown",
   "metadata": {},
   "source": [
    "Here, we make the decision not to scale the pid and pos columns, given that the ordering of the columns is important."
   ]
  },
  {
   "cell_type": "code",
   "execution_count": 34,
   "metadata": {
    "scrolled": true
   },
   "outputs": [],
   "source": [
    "num_vars = songs_df.drop(['pid', 'pos', 'artist_name', 'track_uri', 'artist_uri', 'track_name', 'album_uri', 'album_name'], axis=1)"
   ]
  },
  {
   "cell_type": "code",
   "execution_count": 35,
   "metadata": {},
   "outputs": [],
   "source": [
    "# Fit the scaler on the training data\n",
    "scaler = StandardScaler().fit(num_vars)\n",
    "\n",
    "# Scale both the test and training data. \n",
    "new_scaled_df = pd.DataFrame(scaler.transform(num_vars), columns = num_vars.columns)"
   ]
  },
  {
   "cell_type": "code",
   "execution_count": 36,
   "metadata": {},
   "outputs": [
    {
     "data": {
      "text/plain": [
       "array([2, 2, 2, ..., 0, 0, 0])"
      ]
     },
     "execution_count": 36,
     "metadata": {},
     "output_type": "execute_result"
    }
   ],
   "source": [
    "from sklearn.cluster import KMeans\n",
    "#Use random_state so the cluster assignment doesn't change\n",
    "kmeans = KMeans(n_clusters=3, random_state=969)\n",
    "kmeans.fit(new_scaled_df)\n",
    "y_kmeans = kmeans.predict(new_scaled_df)\n",
    "y_kmeans"
   ]
  },
  {
   "cell_type": "code",
   "execution_count": 37,
   "metadata": {},
   "outputs": [
    {
     "data": {
      "image/png": "[encoded data removed]",
      "text/plain": [
       "<matplotlib.figure.Figure at 0x1eab0a3e748>"
      ]
     },
     "metadata": {},
     "output_type": "display_data"
    }
   ],
   "source": [
    "pd.value_counts(y_kmeans).plot(kind=\"bar\", color=\"orange\", alpha = 0.5)\n",
    "plt.title(\"Distribution of data across K-means clusters (no. of clusters = 3)\")\n",
    "plt.xlabel(\"Clusters\");"
   ]
  },
  {
   "cell_type": "code",
   "execution_count": 38,
   "metadata": {
    "scrolled": false
   },
   "outputs": [
    {
     "data": {
      "image/png": "[encoded data removed]",
      "text/plain": [
       "<matplotlib.figure.Figure at 0x1eab3d77048>"
      ]
     },
     "metadata": {},
     "output_type": "display_data"
    },
    {
     "data": {
      "image/png": "[encoded data removed]",
      "text/plain": [
       "<matplotlib.figure.Figure at 0x1eaaec4a978>"
      ]
     },
     "metadata": {},
     "output_type": "display_data"
    },
    {
     "data": {
      "image/png": "[encoded data removed]",
      "text/plain": [
       "<matplotlib.figure.Figure at 0x1eaaeb36240>"
      ]
     },
     "metadata": {},
     "output_type": "display_data"
    },
    {
     "data": {
      "image/png": "[encoded data removed]",
      "text/plain": [
       "<matplotlib.figure.Figure at 0x1eaae0a5518>"
      ]
     },
     "metadata": {},
     "output_type": "display_data"
    },
    {
     "data": {
      "image/png": "[encoded data removed]",
      "text/plain": [
       "<matplotlib.figure.Figure at 0x1eaae9f6208>"
      ]
     },
     "metadata": {},
     "output_type": "display_data"
    },
    {
     "data": {
      "image/png": "[encoded data removed]",
      "text/plain": [
       "<matplotlib.figure.Figure at 0x1eaae34a7f0>"
      ]
     },
     "metadata": {},
     "output_type": "display_data"
    },
    {
     "data": {
      "image/png": "[encoded data removed]",
      "text/plain": [
       "<matplotlib.figure.Figure at 0x1eab0a57828>"
      ]
     },
     "metadata": {},
     "output_type": "display_data"
    },
    {
     "data": {
      "image/png": "[encoded data removed]",
      "text/plain": [
       "<matplotlib.figure.Figure at 0x1eaaec8d128>"
      ]
     },
     "metadata": {},
     "output_type": "display_data"
    }
   ],
   "source": [
    "list_of_audio_features = ['acousticness', 'energy', 'liveness', 'loudness', 'tempo', 'valence', 'danceability', 'speechiness']\n",
    "for i in list_of_audio_features:\n",
    "    plt.figure()\n",
    "    plt.hist(new_scaled_df.loc[pd.DataFrame(y_kmeans)[0] == 0, str(i)], color=\"green\", alpha=0.5, label=\"Cluster 0\")\n",
    "    plt.hist(new_scaled_df.loc[pd.DataFrame(y_kmeans)[0] == 1, str(i)], color=\"blue\", alpha=0.5, label=\"Cluster 1\")\n",
    "    plt.hist(new_scaled_df.loc[pd.DataFrame(y_kmeans)[0] == 2, str(i)], color=\"red\", alpha=0.5, label=\"Cluster 2\")\n",
    "    #plt.hist(new_scaled_df.loc[pd.DataFrame(y_kmeans)[0] == 3, str(i)], color=\"orange\", alpha=0.5, label=\"Cluster 3\")\n",
    "    #plt.hist(new_scaled_df.loc[pd.DataFrame(y_kmeans)[0] == 4, str(i)], color=\"pink\", alpha=0.5, label=\"Cluster 4\")\n",
    "    #plt.hist(new_scaled_df.loc[pd.DataFrame(y_kmeans)[0] == 5, str(i)], color=\"brown\", alpha=0.5, label=\"Cluster 5\")\n",
    "    plt.legend();\n",
    "    plt.title(\"Distribution of values across clusters for \" + str(i))"
   ]
  },
  {
   "cell_type": "markdown",
   "metadata": {},
   "source": [
    "## Recommender system model"
   ]
  },
  {
   "cell_type": "code",
   "execution_count": 39,
   "metadata": {
    "scrolled": false
   },
   "outputs": [
    {
     "name": "stdout",
     "output_type": "stream",
     "text": [
      "Enter in your playlist - One song only please (for now)\n",
      "Note: Don't re-run this code cell, unless you want to start over\n",
      "If you're unsure what to pick, try entering 'River Flows In You' with no quotes\n"
     ]
    },
    {
     "data": {
      "application/vnd.jupyter.widget-view+json": {
       "model_id": "d3c2cb6cec854be8bf238a94b453ca55",
       "version_major": 2,
       "version_minor": 0
      },
      "text/html": [
       "<p>Failed to display Jupyter Widget of type <code>Textarea</code>.</p>\n",
       "<p>\n",
       "  If you're reading this message in the Jupyter Notebook or JupyterLab Notebook, it may mean\n",
       "  that the widgets JavaScript is still loading. If this message persists, it\n",
       "  likely means that the widgets JavaScript library is either not installed or\n",
       "  not enabled. See the <a href=\"https://ipywidgets.readthedocs.io/en/stable/user_install.html\">Jupyter\n",
       "  Widgets Documentation</a> for setup instructions.\n",
       "</p>\n",
       "<p>\n",
       "  If you're reading this message in another frontend (for example, a static\n",
       "  rendering on GitHub or <a href=\"https://nbviewer.jupyter.org/\">NBViewer</a>),\n",
       "  it may mean that your frontend doesn't currently support widgets.\n",
       "</p>\n"
      ],
      "text/plain": [
       "Textarea(value='', description='Playlist:', placeholder='One song only please (for now)')"
      ]
     },
     "metadata": {},
     "output_type": "display_data"
    },
    {
     "name": "stdout",
     "output_type": "stream",
     "text": [
      "Once you're done entering in your song, run the next ipython cell (not this one!)\n"
     ]
    }
   ],
   "source": [
    "#Take a short quiz!\n",
    "\n",
    "#TODO: Can give multiple songs!\n",
    "print(\"Enter in your playlist - One song only please (for now)\")\n",
    "print(\"Note: Don't re-run this code cell, unless you want to start over\")\n",
    "print(\"If you're unsure what to pick, try entering 'River Flows In You' with no quotes\")\n",
    "input_orig_playlist = widgets.Textarea(\n",
    "    placeholder='One song only please (for now)',\n",
    "    description='Playlist:',\n",
    "    disabled=False\n",
    ")\n",
    "\n",
    "\n",
    "#done_button = widgets.Button(\n",
    "#    value=False,\n",
    "#    description=\"Click me when you're done\",\n",
    "#    disabled=False,\n",
    "#    button_style='', # 'success', 'info', 'warning', 'danger' or ''\n",
    "#    tooltip='Description',\n",
    "#    icon='check'\n",
    "#)\n",
    "\n",
    "display(input_orig_playlist)\n",
    "print(\"Once you're done entering in your song, run the next ipython cell (not this one!)\")\n",
    "#done_button.on_click(other_stuff) \n",
    "#if done_flag == \"Done\":\n",
    "\n",
    "#def run_all(ev):\n",
    "#    display(Javascript('IPython.notebook.execute_cells_below()'))\n",
    "\n",
    "#done_button.on_click(run_all)"
   ]
  },
  {
   "cell_type": "code",
   "execution_count": 41,
   "metadata": {},
   "outputs": [
    {
     "name": "stdout",
     "output_type": "stream",
     "text": [
      "Hey! Based on the playlist you listen to, we figured out your preferences (see below)!\n",
      "If you don't agree with them, click on what best matches your interests and we'll override what we came up with.\n",
      "\n",
      "If you click on the 'Suprise me!', you'll be given a random playlist (you don't need to select any other options).\n",
      "\n",
      "Note: If you want to start over, re-running this cell will clear all your input!\n",
      "-------------------\n"
     ]
    },
    {
     "data": {
      "application/vnd.jupyter.widget-view+json": {
       "model_id": "a0b0e7f6a2cb4456aa35ae3dbf09d142",
       "version_major": 2,
       "version_minor": 0
      },
      "text/html": [
       "<p>Failed to display Jupyter Widget of type <code>RadioButtons</code>.</p>\n",
       "<p>\n",
       "  If you're reading this message in the Jupyter Notebook or JupyterLab Notebook, it may mean\n",
       "  that the widgets JavaScript is still loading. If this message persists, it\n",
       "  likely means that the widgets JavaScript library is either not installed or\n",
       "  not enabled. See the <a href=\"https://ipywidgets.readthedocs.io/en/stable/user_install.html\">Jupyter\n",
       "  Widgets Documentation</a> for setup instructions.\n",
       "</p>\n",
       "<p>\n",
       "  If you're reading this message in another frontend (for example, a static\n",
       "  rendering on GitHub or <a href=\"https://nbviewer.jupyter.org/\">NBViewer</a>),\n",
       "  it may mean that your frontend doesn't currently support widgets.\n",
       "</p>\n"
      ],
      "text/plain": [
       "RadioButtons(description='Feeling?', index=1, options=('Happy', 'Sad', 'Suprise me!'), value='Sad')"
      ]
     },
     "metadata": {},
     "output_type": "display_data"
    },
    {
     "name": "stdout",
     "output_type": "stream",
     "text": [
      "How do you like your songs?\n",
      "Hint: Classical music is less energetic, and death metal has high energy.\n"
     ]
    },
    {
     "data": {
      "application/vnd.jupyter.widget-view+json": {
       "model_id": "da96513e510045409ff24e0e957197c7",
       "version_major": 2,
       "version_minor": 0
      },
      "text/html": [
       "<p>Failed to display Jupyter Widget of type <code>ToggleButtons</code>.</p>\n",
       "<p>\n",
       "  If you're reading this message in the Jupyter Notebook or JupyterLab Notebook, it may mean\n",
       "  that the widgets JavaScript is still loading. If this message persists, it\n",
       "  likely means that the widgets JavaScript library is either not installed or\n",
       "  not enabled. See the <a href=\"https://ipywidgets.readthedocs.io/en/stable/user_install.html\">Jupyter\n",
       "  Widgets Documentation</a> for setup instructions.\n",
       "</p>\n",
       "<p>\n",
       "  If you're reading this message in another frontend (for example, a static\n",
       "  rendering on GitHub or <a href=\"https://nbviewer.jupyter.org/\">NBViewer</a>),\n",
       "  it may mean that your frontend doesn't currently support widgets.\n",
       "</p>\n"
      ],
      "text/plain": [
       "ToggleButtons(description='Speechy?', options=('No', 'A little', \"I don't know\", 'Yes'), value='No')"
      ]
     },
     "metadata": {},
     "output_type": "display_data"
    },
    {
     "data": {
      "application/vnd.jupyter.widget-view+json": {
       "model_id": "9184343e64ea4b14b3dc4d76647b1eb8",
       "version_major": 2,
       "version_minor": 0
      },
      "text/html": [
       "<p>Failed to display Jupyter Widget of type <code>ToggleButtons</code>.</p>\n",
       "<p>\n",
       "  If you're reading this message in the Jupyter Notebook or JupyterLab Notebook, it may mean\n",
       "  that the widgets JavaScript is still loading. If this message persists, it\n",
       "  likely means that the widgets JavaScript library is either not installed or\n",
       "  not enabled. See the <a href=\"https://ipywidgets.readthedocs.io/en/stable/user_install.html\">Jupyter\n",
       "  Widgets Documentation</a> for setup instructions.\n",
       "</p>\n",
       "<p>\n",
       "  If you're reading this message in another frontend (for example, a static\n",
       "  rendering on GitHub or <a href=\"https://nbviewer.jupyter.org/\">NBViewer</a>),\n",
       "  it may mean that your frontend doesn't currently support widgets.\n",
       "</p>\n"
      ],
      "text/plain": [
       "ToggleButtons(description='Danceable?', index=1, options=('No', 'A little', \"I don't know\", 'Yes'), value='A little')"
      ]
     },
     "metadata": {},
     "output_type": "display_data"
    },
    {
     "data": {
      "application/vnd.jupyter.widget-view+json": {
       "model_id": "5e32cc4e5c3d4e2fb87606a4eae268d5",
       "version_major": 2,
       "version_minor": 0
      },
      "text/html": [
       "<p>Failed to display Jupyter Widget of type <code>ToggleButtons</code>.</p>\n",
       "<p>\n",
       "  If you're reading this message in the Jupyter Notebook or JupyterLab Notebook, it may mean\n",
       "  that the widgets JavaScript is still loading. If this message persists, it\n",
       "  likely means that the widgets JavaScript library is either not installed or\n",
       "  not enabled. See the <a href=\"https://ipywidgets.readthedocs.io/en/stable/user_install.html\">Jupyter\n",
       "  Widgets Documentation</a> for setup instructions.\n",
       "</p>\n",
       "<p>\n",
       "  If you're reading this message in another frontend (for example, a static\n",
       "  rendering on GitHub or <a href=\"https://nbviewer.jupyter.org/\">NBViewer</a>),\n",
       "  it may mean that your frontend doesn't currently support widgets.\n",
       "</p>\n"
      ],
      "text/plain": [
       "ToggleButtons(description='Energy?', options=('No', 'A little', \"I don't know\", 'Yes'), value='No')"
      ]
     },
     "metadata": {},
     "output_type": "display_data"
    },
    {
     "data": {
      "application/vnd.jupyter.widget-view+json": {
       "model_id": "5b3eb707b95b40499c6c4ee2d68f13d4",
       "version_major": 2,
       "version_minor": 0
      },
      "text/html": [
       "<p>Failed to display Jupyter Widget of type <code>Button</code>.</p>\n",
       "<p>\n",
       "  If you're reading this message in the Jupyter Notebook or JupyterLab Notebook, it may mean\n",
       "  that the widgets JavaScript is still loading. If this message persists, it\n",
       "  likely means that the widgets JavaScript library is either not installed or\n",
       "  not enabled. See the <a href=\"https://ipywidgets.readthedocs.io/en/stable/user_install.html\">Jupyter\n",
       "  Widgets Documentation</a> for setup instructions.\n",
       "</p>\n",
       "<p>\n",
       "  If you're reading this message in another frontend (for example, a static\n",
       "  rendering on GitHub or <a href=\"https://nbviewer.jupyter.org/\">NBViewer</a>),\n",
       "  it may mean that your frontend doesn't currently support widgets.\n",
       "</p>\n"
      ],
      "text/plain": [
       "Button(description='Done? Click me!', icon='check', style=ButtonStyle(), tooltip='Description')"
      ]
     },
     "metadata": {},
     "output_type": "display_data"
    }
   ],
   "source": [
    "#Cluster 0 has high danceability, medium-high energy, high valence, and relatively high speechiness\n",
    "#Cluster 1 has medium danceability, high energy, medium valence, and medium speechiness\n",
    "#Cluster 2 has medium danceability, low energy, low valence, and low speechiness\n",
    "\n",
    "try:\n",
    "    initial_tracks_clusters = y_kmeans[(np.where(np.array(songs_df['track_name'])== input_orig_playlist.value)[0][0])]\n",
    "except:\n",
    "    raise NameError(\"Make sure you ran the previous code cell. If you did, it seems you might have a typo or\\\n",
    "                    the song might not be in our database - try again (maybe with a new song)!\")\n",
    "#Maybe do an argmax here, figure out the cluster that most tracks are assigned to and use that.\n",
    "\n",
    "if initial_tracks_clusters == 0:\n",
    "    default_danceability = \"Yes\"\n",
    "    default_energy = \"A little\" #Or maybe Yes?\n",
    "    default_valence = \"Happy\"\n",
    "    default_speechiness = \"Yes\"\n",
    "elif initial_tracks_clusters == 1:\n",
    "    default_danceability = \"A little\"\n",
    "    default_energy = \"Yes\" \n",
    "    default_valence = \"Happy\" #This is actually medium, so happy or sad (maybe in the middle)?\n",
    "    default_speechiness = \"A little\"\n",
    "elif initial_tracks_clusters == 2:\n",
    "    default_danceability = \"A little\"\n",
    "    default_energy = \"No\"\n",
    "    default_valence = \"Sad\"\n",
    "    default_speechiness = \"No\"\n",
    "\n",
    "print(\"Hey! Based on the playlist you listen to, we figured out your preferences (see below)!\")\n",
    "print(\"If you don't agree with them, click on what best matches your interests and we'll override what we came up with.\")\n",
    "print(\"\\nIf you click on the 'Suprise me!', you'll be given a random playlist (you don't need to select any other options).\")\n",
    "print(\"\\nNote: If you want to start over, re-running this cell will clear all your input!\")\n",
    "print(\"-------------------\")\n",
    "\n",
    "input_mood = widgets.RadioButtons(\n",
    "    options=['Happy', 'Sad', \"Suprise me!\"],\n",
    "    value=default_valence,\n",
    "    description='Feeling?')\n",
    "\n",
    "display(input_mood)\n",
    "\n",
    "\n",
    "print(\"How do you like your songs?\")\n",
    "input_speechiness = widgets.ToggleButtons(\n",
    "    options=['No', \"A little\", \"I don't know\", 'Yes'],\n",
    "    description='Speechy?',\n",
    "    value=default_speechiness,\n",
    "    button_style='', # 'success', 'info', 'warning', 'danger' or ''\n",
    ")\n",
    "\n",
    "input_danceability = widgets.ToggleButtons(\n",
    "    options=['No', \"A little\", \"I don't know\", 'Yes'],\n",
    "    description='Danceable?',\n",
    "    disabled=False,\n",
    "    value=default_danceability,\n",
    "    button_style='', # 'success', 'info', 'warning', 'danger' or ''\n",
    "#     icons=['check'] * 3\n",
    ")\n",
    "\n",
    "print(\"Hint: Classical music is less energetic, and death metal has high energy.\")\n",
    "input_energy = widgets.ToggleButtons(\n",
    "    options=['No', \"A little\", \"I don't know\", 'Yes'],\n",
    "    description='Energy?',\n",
    "    disabled=False,\n",
    "    value=default_energy,\n",
    "    button_style='', # 'success', 'info', 'warning', 'danger' or ''\n",
    "#     icons=['check'] * 3\n",
    ")\n",
    "\n",
    "display(input_speechiness, input_danceability, input_energy)\n",
    "\n",
    "#print(\"Please rank these artists:\")\n",
    "artists = ['Yiruma', 'Enya', 'Yani']\n",
    "for i in artists:\n",
    "    favorite_artists = widgets.IntSlider(\n",
    "        value=5,\n",
    "        min=0,\n",
    "        max=10,\n",
    "        step=1,\n",
    "        description='Rank ' + str(i),\n",
    "        disabled=False,\n",
    "        continuous_update=False,\n",
    "        orientation='horizontal',\n",
    "        readout=True,\n",
    "        readout_format='d'\n",
    "    )\n",
    "    #display(favorite_artists)\n",
    "#print(\"Once you're done, run the next ipython cell (not this one!)\")\n",
    "\n",
    "done_button = widgets.Button(\n",
    "    value=False,\n",
    "    description=\"Done? Click me!\",\n",
    "    disabled=False,\n",
    "    button_style='', # 'success', 'info', 'warning', 'danger' or ''\n",
    "    tooltip='Description',\n",
    "    icon='check'\n",
    ")\n",
    "\n",
    "#done_button.on_click(other_stuff) \n",
    "#if done_flag == \"Done\":\n",
    "display(done_button)\n",
    "\n",
    "def run_all(ev):\n",
    "    display(Javascript('IPython.notebook.execute_cells_below()'))\n",
    "\n",
    "done_button.on_click(run_all)"
   ]
  },
  {
   "cell_type": "code",
   "execution_count": 42,
   "metadata": {},
   "outputs": [],
   "source": [
    "#Cluster 0 has high danceability, medium-high energy, high valence, and relatively high speechiness\n",
    "#Cluster 1 has medium danceability, high energy, medium valence, and medium speechiness\n",
    "#Cluster 2 has medium danceability, low energy, low valence, and low speechiness\n",
    "\n",
    "if input_mood.value == 'Sad':\n",
    "    sorting_hat = \"Clusters 1 and 2\"\n",
    "elif input_mood.value == 'Happy':\n",
    "    #Only one cluster for happy. Is that a good thing? - TODO\n",
    "    sorting_hat = 0   \n",
    "elif input_mood.value == \"Pick for me\":\n",
    "    #Pick a cluster randomly\n",
    "    sorting_hat = random.randint(0, 2)\n",
    "\n",
    "if sorting_hat == \"Clusters 1 and 2\":\n",
    "    #Not really considering speechiness in this case, since most songs in the data aren't speechy anyways\n",
    "    if input_energy.value == \"No\" or input_energy.value == \"A little\":\n",
    "        #Music question: How can you have medium danceability and low energy?\n",
    "        sorting_hat = 2\n",
    "    elif input_energy.value == \"Yes\":\n",
    "        sorting_hat = 1\n",
    "    \n",
    "#This is not really necessary, just to show we give priority to the sorting hat\n",
    "#and that we hope that user's preferences will meet our initial guess (in that case, no need for the sorting hat)\n",
    "if initial_tracks_clusters == sorting_hat: \n",
    "    ideal_cluster_type = initial_tracks_clusters\n",
    "else:\n",
    "    #Give priority to the sorting hat\n",
    "    ideal_cluster_type = sorting_hat"
   ]
  },
  {
   "cell_type": "code",
   "execution_count": 43,
   "metadata": {},
   "outputs": [],
   "source": [
    "orig = songs_df.pivot_table(index='track_name', columns = 'pid').fillna(0)\n",
    "pivoted = csr_matrix(orig)\n",
    "\n",
    "model_knn = NearestNeighbors(metric = 'cosine', algorithm = 'brute')\n",
    "model_knn.fit(pivoted)\n",
    "\n",
    "try:\n",
    "    query_index = np.where(np.array(orig.index)==input_orig_playlist.value)[0][0]\n",
    "except:\n",
    "    print(\"The song name you entered isn't in our database - or maybe has a typo. Try again!\")\n",
    "\n",
    "    #query_index = np.random.choice(orig.shape[0])\n",
    "distances, indices = model_knn.kneighbors(np.array(orig.iloc[query_index, :]).reshape(1, -1), n_neighbors = 20) #\n",
    "\n",
    "recommendations = []\n",
    "\n",
    "for i in range(0, len(distances.flatten())):\n",
    "    if i != 0:\n",
    "        recommendations.append(orig.index[indices.flatten()[i]])\n",
    "\n",
    "#for i in range(0, len(distances.flatten())):\n",
    "#    if i == 0:\n",
    "#        print (\"Recomendation for \", (orig.index[query_index]))\n",
    "#    else:\n",
    "#        recommendations.append(orig.index[indices.flatten()[i]])\n",
    "#        print ((i, orig.index[indices.flatten()[i]], distances.flatten()[i]))"
   ]
  },
  {
   "cell_type": "code",
   "execution_count": 44,
   "metadata": {},
   "outputs": [
    {
     "name": "stdout",
     "output_type": "stream",
     "text": [
      "By the way, in case you're curious, the song you input belongs to cluster 2\n"
     ]
    }
   ],
   "source": [
    "print(\"By the way, in case you're curious, the song you input belongs to cluster\", initial_tracks_clusters)"
   ]
  },
  {
   "cell_type": "code",
   "execution_count": 45,
   "metadata": {},
   "outputs": [
    {
     "name": "stdout",
     "output_type": "stream",
     "text": [
      "Recommendations from the clustering analysis: \n",
      "* Is It Poison, Nanny? * \n",
      " -> Link to track on Spotify https://open.spotify.com/track/12sj1ybHe6d5I2ltGQr7Iz\n",
      "* He's Killed The Dog Again * \n",
      " -> Link to track on Spotify https://open.spotify.com/track/49EwnDEo5CY6Hn0dxiP9A3\n",
      "* Time To Say Goodbye (Con Te Partiro) * \n",
      " -> Link to track on Spotify https://open.spotify.com/track/1DzDYmTIaLPQDAALkrjXg1\n",
      "* Cello Suite No. 1 in G Major, BWV 1007: I. Prelude * \n",
      " -> Link to track on Spotify https://open.spotify.com/track/48BSXfxyLLxDIp934Is2A9\n",
      "* Data, Data, Data * \n",
      " -> Link to track on Spotify https://open.spotify.com/track/78VTQtPvz5pcE6BL7ahLmf\n",
      "* The Medallion Calls - From \"Pirates of the Caribbean: The Curse Of the Black Pearl\"/Score * \n",
      " -> Link to track on Spotify https://open.spotify.com/track/35gFlKdC4Pmo88Go1cVrae\n",
      "* Fog Bound - From \"Pirates of the Caribbean: The Curse Of the Black Pearl\"/Score * \n",
      " -> Link to track on Spotify https://open.spotify.com/track/3rPmRqTPwBs5qCotzfqpwO\n",
      "* The Four Seasons * \n",
      " -> Link to track on Spotify https://open.spotify.com/track/7DTp0wFpktphrM7vDnPCs1\n",
      "* Skyfall (Theme Song) [From \"Skyfall\"] [Bonus Track] * \n",
      " -> Link to track on Spotify https://open.spotify.com/track/65iKIxXPoNOpPYQsc5te6X\n",
      "* L'Estasi Dell'oro (The Ecstasy Of Gold) - 2004 Digital Remaster * \n",
      " -> Link to track on Spotify https://open.spotify.com/track/6PrKZUXJPmBiobMN44yR8Y\n",
      "* Christmas at Hogwarts * \n",
      " -> Link to track on Spotify https://open.spotify.com/track/4WPw9shOzxaA4cWws44Xjd\n",
      "* La vie en rose * \n",
      " -> Link to track on Spotify https://open.spotify.com/track/4FmiciU3ZmfgABlbCSXcWw\n",
      "* Honor [Main Title Theme From \"The Pacific\"] * \n",
      " -> Link to track on Spotify https://open.spotify.com/track/4aW4Dpz3gpb619hBXDrFUa\n",
      "* Prologue * \n",
      " -> Link to track on Spotify https://open.spotify.com/track/6CeCOC2zx1qS8mQNYHe6IM\n"
     ]
    }
   ],
   "source": [
    "ranks = []\n",
    "print(\"Recommendations from the clustering analysis: \")\n",
    "for i in recommendations:\n",
    "    #Find out cluster of track\n",
    "    cluster_track = y_kmeans[(np.where(np.array(songs_df['track_name'])== i)[0][0])]\n",
    "    #print(i, cluster_track)\n",
    "    if cluster_track == ideal_cluster_type:\n",
    "        ranks.append(i)\n",
    "        track_uri_str = songs_df.loc[songs_df['track_name'] == i,'track_uri']\n",
    "        track_uri_str = str(track_uri_str).split(\"track:\",1)[1].rsplit(\"\\nName\",1)[0]\n",
    "        track_uri_url = 'https://open.spotify.com/track/' + track_uri_str\n",
    "        print(\"*\", i, \"*\", \"\\n -> Link to track on Spotify\", track_uri_url)\n",
    "\n",
    "\n",
    "#TODO: Narrow recommendations even further\n",
    "#If song is between 25% and 50%, it's a little\n",
    "#If song is below 25%, it's a No\n",
    "#If the song is above 50%, it's a yes"
   ]
  },
  {
   "cell_type": "code",
   "execution_count": 46,
   "metadata": {},
   "outputs": [
    {
     "name": "stdout",
     "output_type": "stream",
     "text": [
      "Recommendations that aren't based on clustering analysis: \n"
     ]
    },
    {
     "data": {
      "text/plain": [
       "[\"Give 'Em a Chance\",\n",
       " 'Is It Poison, Nanny?',\n",
       " \"He's Killed The Dog Again\",\n",
       " 'Time To Say Goodbye (Con Te Partiro)',\n",
       " 'Requiem For A Tower',\n",
       " 'Cello Suite No. 1 in G Major, BWV 1007: I. Prelude',\n",
       " 'Data, Data, Data',\n",
       " 'The Medallion Calls - From \"Pirates of the Caribbean: The Curse Of the Black Pearl\"/Score',\n",
       " 'Fog Bound - From \"Pirates of the Caribbean: The Curse Of the Black Pearl\"/Score',\n",
       " 'Discombobulate',\n",
       " 'The Four Seasons',\n",
       " '\"Straight Up and Down\" - (From \"Boardwalk Empire\")',\n",
       " 'He\\'s a Pirate - From \"Pirates of the Caribbean: The Curse Of the Black Pearl\"/Score',\n",
       " 'Skyfall (Theme Song) [From \"Skyfall\"] [Bonus Track]',\n",
       " \"L'Estasi Dell'oro (The Ecstasy Of Gold) - 2004 Digital Remaster\",\n",
       " 'Christmas at Hogwarts',\n",
       " 'La vie en rose',\n",
       " 'Honor [Main Title Theme From \"The Pacific\"]',\n",
       " 'Prologue']"
      ]
     },
     "execution_count": 46,
     "metadata": {},
     "output_type": "execute_result"
    }
   ],
   "source": [
    "print(\"Recommendations that aren't based on clustering analysis: \")\n",
    "recommendations"
   ]
  },
  {
   "cell_type": "markdown",
   "metadata": {},
   "source": [
    "## Unrelated items below (PCA analysis, predicting position of track in playlist)"
   ]
  },
  {
   "cell_type": "markdown",
   "metadata": {},
   "source": [
    "#TODO: Relies on the fact that scaled_df and songs_df still have same indices! Remember kmeans model is trained on the scaled_df!\n",
    "\n",
    "Un-toggle code button to see code:"
   ]
  },
  {
   "cell_type": "code",
   "execution_count": null,
   "metadata": {},
   "outputs": [],
   "source": [
    "    \n",
    "\"\"\"    \n",
    "if input_speechiness == \"No\":\n",
    "    print(\"Tending towards Cluster 2\")\n",
    "elif input_speechiness == \"A little\"\n",
    "    \n",
    "if input_danceability == \"No\":\n",
    "    print(\"Cluster 2\")\n",
    "    \n",
    "if input_danceability == \"A little\":\n",
    "    print(\"Tending towards Cluster 1\")\n",
    "\n",
    "if input_energy == \"No\":\n",
    "    print(\"Cluster 2\")\n",
    "    \n",
    "if input_energy == \"A little\":\n",
    "    print(\"Cluster 0\")\n",
    "\"\"\""
   ]
  },
  {
   "cell_type": "code",
   "execution_count": null,
   "metadata": {},
   "outputs": [],
   "source": [
    "new_scaled_df.describe()"
   ]
  },
  {
   "cell_type": "code",
   "execution_count": null,
   "metadata": {},
   "outputs": [],
   "source": [
    "pca = PCA().fit(new_scaled_df)\n",
    "pca_2d = pca.transform(new_scaled_df)\n",
    "pcaX_train_df = pd.DataFrame(pca_2d)"
   ]
  },
  {
   "cell_type": "code",
   "execution_count": null,
   "metadata": {},
   "outputs": [],
   "source": [
    "list_of_audio_features = ['acousticness', 'energy', 'liveness', 'loudness', 'tempo', 'valence', 'danceability', 'speechiness']"
   ]
  },
  {
   "cell_type": "code",
   "execution_count": null,
   "metadata": {
    "scrolled": false
   },
   "outputs": [],
   "source": [
    "for column_plot in ['acousticness', 'energy', 'liveness', 'loudness', 'tempo', 'valence', 'danceability', 'speechiness']:\n",
    "    \n",
    "    cut_off = round(np.median(new_scaled_df[column_plot]), 4)\n",
    "    df_y_train = pd.DataFrame(new_scaled_df[column_plot]).set_index(pcaX_train_df.index)\n",
    "    \n",
    "    plt.figure()\n",
    "    plt.scatter(pcaX_train_df.loc[df_y_train[column_plot] < cut_off, 0], pcaX_train_df.loc[df_y_train[column_plot] < cut_off, 1], alpha=0.4, label= str(column_plot) + \"<\" + str(cut_off))\n",
    "    plt.scatter(pcaX_train_df.loc[df_y_train[column_plot] >= cut_off, 0], pcaX_train_df.loc[df_y_train[column_plot] >= cut_off, 1], alpha=0.4, label= str(column_plot) + \">=\" + str(cut_off))\n",
    "\n",
    "    plt.xlabel(\"First PCA Component Vector\")\n",
    "    plt.ylabel(\"Second PCA Component Vector\")\n",
    "    plt.title(\"First two principal components: Results for binning \" + str(column_plot))\n",
    "    plt.legend();"
   ]
  },
  {
   "cell_type": "code",
   "execution_count": null,
   "metadata": {},
   "outputs": [],
   "source": [
    "print(\"Variance explained by top two components\", pca.explained_variance_ratio_[0:2])"
   ]
  },
  {
   "cell_type": "code",
   "execution_count": null,
   "metadata": {},
   "outputs": [],
   "source": [
    "plt.figure(figsize=(20,10))\n",
    "plt.plot(np.cumsum(pca.explained_variance_ratio_))\n",
    "plt.xlabel(\"Number of PCA components used\")\n",
    "plt.ylabel(\"Cumulative explained variability\")\n",
    "plt.title(\"Cumulative explained variability from PCA components\");"
   ]
  },
  {
   "cell_type": "code",
   "execution_count": null,
   "metadata": {},
   "outputs": [],
   "source": [
    "from sklearn.cluster import KMeans\n",
    "kmeans = KMeans(n_clusters=3)\n",
    "kmeans.fit(pcaX_train_df)\n",
    "y_kmeans = kmeans.predict(pcaX_train_df)\n",
    "\n",
    "plt.scatter(pcaX_train_df[0], pcaX_train_df[1], c=y_kmeans, s=50, cmap='viridis')\n",
    "\n",
    "centers = kmeans.cluster_centers_\n",
    "plt.scatter(centers[:, 0], centers[:, 1], c='black', s=200, alpha=0.5)\n",
    "plt.title(\"K-means clustering results on PCA (no. of clusters = 3)\");"
   ]
  },
  {
   "cell_type": "markdown",
   "metadata": {},
   "source": [
    "## Models for predicting position of track in playlist"
   ]
  },
  {
   "cell_type": "code",
   "execution_count": null,
   "metadata": {},
   "outputs": [],
   "source": [
    "X_train, X_test, y_train, y_test = train_test_split(new_scaled_df, songs_df['pos'], test_size=0.33, random_state=42)"
   ]
  },
  {
   "cell_type": "code",
   "execution_count": null,
   "metadata": {},
   "outputs": [],
   "source": [
    "logreg = LogisticRegression(C=100000, fit_intercept=False, solver='lbfgs', max_iter=10000)\n",
    "logreg.fit(X_train, y_train)\n",
    "logreg.predict(X_train)\n",
    "logreg.score(X_test, y_test)"
   ]
  },
  {
   "cell_type": "code",
   "execution_count": null,
   "metadata": {},
   "outputs": [],
   "source": [
    "linearreg = LinearRegression()\n",
    "linearreg.fit(X_train, y_train)\n",
    "linearreg.score(X_test, y_test)"
   ]
  }
 ],
 "metadata": {
  "kernelspec": {
   "display_name": "Python 3",
   "language": "python",
   "name": "python3"
  },
  "language_info": {
   "codemirror_mode": {
    "name": "ipython",
    "version": 3
   },
   "file_extension": ".py",
   "mimetype": "text/x-python",
   "name": "python",
   "nbconvert_exporter": "python",
   "pygments_lexer": "ipython3",
   "version": "3.6.4"
  },
  "toc": {
   "base_numbering": 1,
   "nav_menu": {},
   "number_sections": true,
   "sideBar": true,
   "skip_h1_title": true,
   "title_cell": "Table of Contents",
   "title_sidebar": "Contents",
   "toc_cell": true,
   "toc_position": {},
   "toc_section_display": true,
   "toc_window_display": false
  }
 },
 "nbformat": 4,
 "nbformat_minor": 2
}
